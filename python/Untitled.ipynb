{
 "cells": [
  {
   "cell_type": "code",
   "execution_count": null,
   "metadata": {},
   "outputs": [],
   "source": [
    "import requests\n",
    "from bs4 import BeautifulSoup\n",
    "\n",
    "def get_news(keyword) : \n",
    "  headers = {'User-Agent' : 'Mozilla/5.0 (Windows NT 10.0; Win64; x64)AppleWebKit/537.36 (KHTML, like Gecko) Chrome/73.0.3683.86 Safari/537.36'}\n",
    "\n",
    "  data = requests.get(f'https://search.naver.com/search.naver?where=news&ie=utf8&sm=nws_hty&query={keyword}',headers=headers)\n",
    "\n",
    "  soup = BeautifulSoup(data.text, 'html.parser')\n",
    "\n",
    "  lis = soup.select('#main_pack > section > div > div.group_news > ul > li')\n",
    "\n",
    "  for li in lis : \n",
    "    a = li.select_one('a.news_tit')\n",
    "    print(a.text, a['href'])\n",
    "\n",
    "get_news('현대자동차')"
   ]
  },
  {
   "cell_type": "code",
   "execution_count": null,
   "metadata": {},
   "outputs": [],
   "source": [
    "from openpyxl import Workbook\n",
    "\n",
    "wb= Workbook()\n",
    "sheet = wb.active\n",
    "\n",
    "sheet['A1'] = '안녕하세요!'\n",
    "\n",
    "wb.save(\"샘플파일.xlsx\")\n",
    "wb.close()"
   ]
  },
  {
   "cell_type": "code",
   "execution_count": null,
   "metadata": {},
   "outputs": [],
   "source": [
    "import openpyxl\n",
    "wb = openpyxl.load_workbook('샘플파일.xlsx')\n",
    "sheet = wb['Sheet']\n",
    "\n",
    "#sheet['A1'].value\n",
    "\n",
    "rows = list(sheet.rows)[0:]\n",
    "for row in rows : \n",
    "  print(row[0].value)\n"
   ]
  },
  {
   "cell_type": "code",
   "execution_count": null,
   "metadata": {},
   "outputs": [],
   "source": [
    "import requests\n",
    "from bs4 import BeautifulSoup\n",
    "from openpyxl import Workbook\n",
    "from datetime import datetime\n",
    "\n",
    "def get_news(keyword) :\n",
    "  wb= Workbook()\n",
    "  sheet = wb.active\n",
    "  \n",
    "  headers = {'User-Agent' : 'Mozilla/5.0 (Windows NT 10.0; Win64; x64)AppleWebKit/537.36 (KHTML, like Gecko) Chrome/73.0.3683.86 Safari/537.36'}\n",
    "  data = requests.get(f'https://search.naver.com/search.naver?where=news&ie=utf8&sm=nws_hty&query={keyword}',headers=headers)\n",
    "\n",
    "  soup = BeautifulSoup(data.text, 'html.parser')\n",
    "\n",
    "  lis = soup.select('#main_pack > section > div > div.group_news > ul > li')\n",
    "\n",
    "  for li in lis : \n",
    "    a = li.select_one('a.news_tit')\n",
    "    row = [a.text, a['href']]\n",
    "    sheet.append(row)\n",
    "\n",
    "  today = datetime.today().strftime(\"%Y-%m-%d\")\n",
    "\n",
    "  wb.save(f\"news/{today}_{keyword}.xlsx\")\n",
    "  wb.close()"
   ]
  },
  {
   "cell_type": "code",
   "execution_count": null,
   "metadata": {},
   "outputs": [],
   "source": [
    "keywords = ['삼성전자','LG이노텍','기업은행']\n",
    "\n",
    "for keyword in keywords : \n",
    "  print(keyword)\n",
    "  get_news(keyword)"
   ]
  },
  {
   "cell_type": "code",
   "execution_count": null,
   "metadata": {},
   "outputs": [],
   "source": [
    "!zip -r /content/files.zip /content/news"
   ]
  },
  {
   "cell_type": "code",
   "execution_count": null,
   "metadata": {},
   "outputs": [],
   "source": [
    "import os\n",
    "\n",
    "path = '/content/news'\n",
    "files = os.listdir(path)\n",
    "\n",
    "for name in files:\n",
    "  new_name = name.split('.')[0] + '(뉴스).xlsx'\n",
    "  os.rename(f'/content/news/{name}', f'/content/news/{new_name}')"
   ]
  },
  {
   "cell_type": "code",
   "execution_count": null,
   "metadata": {},
   "outputs": [],
   "source": [
    "import urllib.request\n",
    "\n",
    "url = 'https://ssl.pstatic.net/imgfinance/chart/item/area/year3/005930.png'\n",
    "urllib.request.urlretrieve(url, \"LG디스플레이.png\")"
   ]
  },
  {
   "cell_type": "code",
   "execution_count": null,
   "metadata": {},
   "outputs": [],
   "source": [
    "#1주차 숙제\n",
    "import openpyxl\n",
    "import urllib.request\n",
    "\n",
    "wb = openpyxl.load_workbook('관리종목.xlsx')\n",
    "sheet = wb['종목']\n",
    "\n",
    "rows = list(sheet.rows)[1:]\n",
    "\n",
    "for row in rows : \n",
    "  print(row[0].value, row[1].value)\n",
    "  url = f'https://ssl.pstatic.net/imgfinance/chart/item/area/year3/{row[1].value}.png'\n",
    "  urllib.request.urlretrieve(url, f\"image/{row[0].value}.png\")"
   ]
  },
  {
   "cell_type": "code",
   "execution_count": null,
   "metadata": {},
   "outputs": [],
   "source": [
    "# 2주차"
   ]
  },
  {
   "cell_type": "code",
   "execution_count": null,
   "metadata": {},
   "outputs": [],
   "source": [
    "import pandas as pd\n",
    "import numpy as np\n",
    "\n",
    "data = {\n",
    "    'name':['철수','영희','동희','영수'],\n",
    "    'age':[15,12,20,35]\n",
    "}\n",
    "\n",
    "df = pd.DataFrame(data)"
   ]
  },
  {
   "cell_type": "code",
   "execution_count": null,
   "metadata": {},
   "outputs": [],
   "source": [
    "doc = {\n",
    "    'name':'세종',\n",
    "    'age':23\n",
    "}\n",
    "\n",
    "df = df.append(doc, ignore_index=True)"
   ]
  },
  {
   "cell_type": "code",
   "execution_count": null,
   "metadata": {},
   "outputs": [],
   "source": [
    "df['city'] = ['서울','부산','서울','부산','부산']"
   ]
  },
  {
   "cell_type": "code",
   "execution_count": null,
   "metadata": {},
   "outputs": [],
   "source": [
    "cond = df['age'] < 20\n",
    "df[cond]"
   ]
  },
  {
   "cell_type": "code",
   "execution_count": null,
   "metadata": {},
   "outputs": [],
   "source": [
    "df.iloc[-1,0]"
   ]
  },
  {
   "cell_type": "code",
   "execution_count": null,
   "metadata": {},
   "outputs": [],
   "source": [
    "df.sort_values(by='age',ascending=False)\n",
    "df.sort_values(by='age',ascending=False).iloc[0,1]"
   ]
  },
  {
   "cell_type": "code",
   "execution_count": null,
   "metadata": {},
   "outputs": [],
   "source": [
    "df['is_adult'] = np.where(df['age'] < 20, '청소년', '성인')"
   ]
  },
  {
   "cell_type": "code",
   "execution_count": null,
   "metadata": {},
   "outputs": [],
   "source": [
    "df['age'].mean()\n",
    "df['age'].min()\n",
    "df['age'].describe()"
   ]
  },
  {
   "cell_type": "code",
   "execution_count": null,
   "metadata": {},
   "outputs": [],
   "source": [
    "df[df['city']=='서울']['age'].mean()"
   ]
  },
  {
   "cell_type": "code",
   "execution_count": null,
   "metadata": {},
   "outputs": [],
   "source": [
    "pd.options.display.float_format = '{:.2f}'.format"
   ]
  },
  {
   "cell_type": "code",
   "execution_count": null,
   "metadata": {},
   "outputs": [],
   "source": [
    "df = pd.read_excel('종목데이터.xlsx')\n",
    "\n",
    "cond = df['change_rate'] > 0\n",
    "df[cond]\n",
    "\n",
    "cond = df['per'] >0\n",
    "df[cond]\n",
    "\n",
    "df['Close'] = df['per'] * df['eps']\n",
    "df['earning'] = df['marketcap'] / df['per']\n",
    "\n",
    "del df['date']\n",
    "\n",
    "cond = (df['pbr'] < 1) & (df['marketcap'] > 10000000000000) & (df['per'] < 20)\n",
    "df = df[cond]\n",
    "\n",
    "df.sort_values(by='marketcap', ascending=False)\n",
    "df.describe()"
   ]
  },
  {
   "cell_type": "code",
   "execution_count": null,
   "metadata": {},
   "outputs": [],
   "source": [
    "!pip install yfinance"
   ]
  },
  {
   "cell_type": "code",
   "execution_count": null,
   "metadata": {},
   "outputs": [],
   "source": [
    "import yfinance as yf\n",
    "import pandas as pd\n",
    "import numpy as np"
   ]
  },
  {
   "cell_type": "code",
   "execution_count": null,
   "metadata": {},
   "outputs": [],
   "source": [
    "company = yf.Ticker('TSLA')\n",
    "company.info"
   ]
  },
  {
   "cell_type": "code",
   "execution_count": null,
   "metadata": {},
   "outputs": [],
   "source": [
    "name = company.info['shortName']\n",
    "industry = company.info['industry']\n",
    "marketcap = company.info['marketCap']\n",
    "revenue = company.info['totalRevenue']\n",
    "\n",
    "company.balance_sheet\n",
    "\n",
    "company.balance_sheet.loc[['Cash']]\n",
    "\n",
    "company.earnings\n",
    "\n",
    "df = company.recommendations\n",
    "cond = df['Firm'] == 'JP Morgan'\n",
    "df[cond]\n",
    "\n",
    "news = company.news\n",
    "news[0]['title']"
   ]
  },
  {
   "cell_type": "code",
   "execution_count": null,
   "metadata": {},
   "outputs": [],
   "source": [
    "def add_company(code):\n",
    "  company = yf.Ticker(code)\n",
    "\n",
    "  name = company.info['shortName']\n",
    "  industry = company.info['industry']\n",
    "  marketcap = company.info['marketCap']\n",
    "  summary = company.info['longBusinessSummary']\n",
    "  currentprice = company.info['currentPrice']\n",
    "  targetprice = company.info['targetMeanPrice']\n",
    "  per = company.info['trailingPE']\n",
    "  eps = company.info['trailingEps']\n",
    "  pbr = company.info['priceToBook']\n",
    "\n",
    "  rev2021 = company.earnings.iloc[-1,0]\n",
    "  rev2020 = company.earnings.iloc[-2,0]\n",
    "  rev2019 = company.earnings.iloc[-3,0]\n",
    "\n",
    "  ear2021 = company.earnings.iloc[-1,1]\n",
    "  ear2020 = company.earnings.iloc[-2,1]\n",
    "  ear2019 = company.earnings.iloc[-3,1]\n",
    "\n",
    "  doc = {\n",
    "      'name':name,\n",
    "      'industry':industry,\n",
    "      'marketcap':marketcap,\n",
    "      'summary':summary,\n",
    "      'currentprice':currentprice,\n",
    "      'targetprice':targetprice,\n",
    "      'per':per,\n",
    "      'eps':eps,\n",
    "      'pbr':pbr,\n",
    "      'rev2021':rev2021,\n",
    "      'rev2020':rev2020,\n",
    "      'rev2019':rev2019,\n",
    "      'ear2021':ear2021,\n",
    "      'ear2020':ear2020,\n",
    "      'ear2019':ear2019\n",
    "  }\n",
    "\n",
    "  return doc"
   ]
  },
  {
   "cell_type": "code",
   "execution_count": null,
   "metadata": {},
   "outputs": [],
   "source": [
    "df = pd.DataFrame()\n",
    "\n",
    "codes = ['AAPL','ABNB','BIDU','FB','GOOG','MSFT','TSLA','PYPL','NFLX','NVDA']\n",
    "\n",
    "for code in codes :\n",
    "  print(code)\n",
    "  try :\n",
    "    row = add_company(code)\n",
    "    df = df.append(row, ignore_index=True)\n",
    "  except :\n",
    "    continue\n",
    "\n",
    "df"
   ]
  },
  {
   "cell_type": "code",
   "execution_count": null,
   "metadata": {},
   "outputs": [],
   "source": [
    "pd.options.display.float_format = '{:.2f}'.format"
   ]
  },
  {
   "cell_type": "code",
   "execution_count": null,
   "metadata": {},
   "outputs": [],
   "source": [
    "df.sort_values(by = 'eps', ascending = False)"
   ]
  },
  {
   "cell_type": "code",
   "execution_count": null,
   "metadata": {},
   "outputs": [],
   "source": [
    "cond = df['per'] < 30\n",
    "df[cond].sort_values(by='per', ascending=False)"
   ]
  },
  {
   "cell_type": "code",
   "execution_count": null,
   "metadata": {},
   "outputs": [],
   "source": [
    "new_df = df[['name','currentprice','targetprice']].copy()\n",
    "\n",
    "new_df['gap'] = new_df['targetprice'] / new_df['currentprice'] - 1\n",
    "\n",
    "new_df.sort_values(by='gap', ascending=False)\n"
   ]
  },
  {
   "cell_type": "code",
   "execution_count": null,
   "metadata": {},
   "outputs": [],
   "source": [
    "new_df = df[['name', 'ear2021','ear2020','ear2019']].copy()\n",
    "\n",
    "cond = (new_df['ear2021'] > new_df['ear2020']) & (new_df['ear2020'] > new_df['ear2019'])\n",
    "\n",
    "new_df['is_target'] = np.where(cond, 'O', 'X')\n",
    "\n",
    "new_df"
   ]
  },
  {
   "cell_type": "code",
   "execution_count": null,
   "metadata": {},
   "outputs": [],
   "source": [
    "#2주차 숙제\n",
    "df= pd.DataFrame()\n",
    "company = yf.Ticker('TSLA')\n",
    "name = company.info['shortName']\n",
    "a2021 = company.balance_sheet.loc[['Cash']].iloc[-1,0]\n",
    "a2020 = company.balance_sheet.loc[['Cash']].iloc[-1,1]\n",
    "\n",
    "row = {\n",
    "    'name':name,\n",
    "    '2021': a2021,\n",
    "    '2020': a2020,\n",
    "}\n",
    "\n",
    "df = df.append(row, ignore_index=True)\n",
    "df['diff'] = df['2021'] - df['2020']\n",
    "df"
   ]
  },
  {
   "cell_type": "code",
   "execution_count": null,
   "metadata": {},
   "outputs": [],
   "source": [
    "#Dart Open-Api key : fc748156cc672cb16311817e362a748e940e9960"
   ]
  },
  {
   "cell_type": "code",
   "execution_count": null,
   "metadata": {},
   "outputs": [],
   "source": [
    "#3주차"
   ]
  },
  {
   "cell_type": "code",
   "execution_count": null,
   "metadata": {},
   "outputs": [],
   "source": [
    "!pip install dart-fss"
   ]
  },
  {
   "cell_type": "code",
   "execution_count": null,
   "metadata": {},
   "outputs": [],
   "source": [
    "import dart_fss as dart_fss\n",
    "import pandas as pd\n",
    "\n",
    "api_key = 'fc748156cc672cb16311817e362a748e940e9960'\n",
    "dart_fss.set_api_key(api_key=api_key)"
   ]
  },
  {
   "cell_type": "code",
   "execution_count": null,
   "metadata": {},
   "outputs": [],
   "source": [
    "all = dart_fss.api.filings.get_corp_code()"
   ]
  },
  {
   "cell_type": "code",
   "execution_count": null,
   "metadata": {},
   "outputs": [],
   "source": [
    "df = pd.DataFrame(all)\n",
    "\n",
    "df_listed = df[df['stock_code'].notnull()]\n",
    "df_non_listed = df[df['stock_code'].isnull()]"
   ]
  },
  {
   "cell_type": "code",
   "execution_count": null,
   "metadata": {},
   "outputs": [],
   "source": [
    "corp_code = df_listed[df_listed['corp_name']=='카카오'].iloc[0,0]\n",
    "dart_fss.api.filings.get_corp_info(corp_code)"
   ]
  },
  {
   "cell_type": "code",
   "execution_count": null,
   "metadata": {},
   "outputs": [],
   "source": [
    "corp_code = df_listed[df_listed['corp_name']=='카카오'].iloc[0,0]\n",
    "data = dart_fss.api.info.unrst_exctv_mendng_sttus(corp_code,'2021', '11011')\n",
    "# 보고서 : dart_fss.api.info.unrst_exctv_mendng_sttus\n",
    "# 증자 : dart_fss.api.info.irds_sttus\n",
    "# 배당 : dart_fss.api.info.alot_matter\n",
    "# 최대주주 : dart_fss.api.info.hyslr_sttus\n",
    "# 직원 : dart_fss.api.info.emp_sttus\n",
    "# 5억이상 상위5인 : dart_fss.api.info.indvdl_by_pay(\n",
    "pd.DataFrame(data['list'])"
   ]
  },
  {
   "cell_type": "code",
   "execution_count": null,
   "metadata": {},
   "outputs": [],
   "source": [
    "# 연봉킹 뽑기\n",
    "def get_salary(name):\n",
    "  corp_code = df_listed[df_listed['corp_name'] == name].iloc[0,0]\n",
    "  data = dart_fss.api.info.indvdl_by_pay(corp_code,'2021', '11011')\n",
    "\n",
    "  df = pd.DataFrame(data['list'])\n",
    "  df = df[['corp_name', 'nm', 'ofcps', 'mendng_totamt']]\n",
    "  df.columns = ['기업명', '이름', '역할', '보수']\n",
    "  df['보수'] = pd.to_numeric(df['보수'].str.replace(',',\"\"))\n",
    "  #df.dtypes 자료형 확인\n",
    "  df.sort_values(by='보수', ascending=False)\n",
    "\n",
    "  return df"
   ]
  },
  {
   "cell_type": "code",
   "execution_count": null,
   "metadata": {},
   "outputs": [],
   "source": [
    "names = ['삼성전자','LG에너지솔루션','SK하이닉스','NAVER','삼성바이오로직스','삼성전자우','카카오','삼성SDI','현대차','LG화학','기아','POSCO홀딩스','KB금융','카카오뱅크','셀트리온','신한지주','삼성물산','현대모비스','SK이노베이션','LG전자','카카오페이','SK','한국전력','크래프톤','하나금융지주','LG생활건강','HMM','삼성생명','하이브','두산중공업','SK텔레콤','삼성전기','SK바이오사이언스','LG','S-Oil','고려아연','KT&G','우리금융지주','대한항공','삼성에스디에스','현대중공업','엔씨소프트','삼성화재','아모레퍼시픽','KT','포스코케미칼','넷마블','SK아이이테크놀로지','LG이노텍','기업은행']\n",
    "dfs = []\n",
    "for name in names :\n",
    "  try :\n",
    "    df = get_salary(name)\n",
    "    dfs.append(df)\n",
    "  except : \n",
    "    print(f'error - {name}')\n",
    "\n",
    "df_result = pd.concat(dfs)\n",
    "df_result.sort_values(by='보수', ascending=False).head(30)"
   ]
  },
  {
   "cell_type": "code",
   "execution_count": null,
   "metadata": {},
   "outputs": [],
   "source": [
    "# 최대주주 지분율 변화 뽑기\n",
    "def get_shareholders(corp_code) : \n",
    "  data = dart_fss.api.info.hyslr_sttus(corp_code,'2021', '11011')\n",
    "\n",
    "  df = pd.DataFrame(data['list'])\n",
    "  df = df[['corp_name', 'nm', 'relate', 'bsis_posesn_stock_qota_rt', 'trmend_posesn_stock_qota_rt', 'rm']]\n",
    "  df.columns = ['기업명', '이름', '관계', '기초지분율', '기말지분율', '비고']\n",
    "\n",
    "  df = df[df['관계'].notnull()]\n",
    "\n",
    "  df['기초지분율'] = pd.to_numeric(df['기초지분율'])\n",
    "  df['기말지분율'] = pd.to_numeric(df['기말지분율'])\n",
    "  return df.sort_values(by='기초지분율', ascending = False).head(3)"
   ]
  },
  {
   "cell_type": "code",
   "execution_count": null,
   "metadata": {},
   "outputs": [],
   "source": [
    "corp_codes = list(df_listed.sample(10)['corp_code'])\n",
    "\n",
    "dfs = []\n",
    "for corp_code in corp_codes : \n",
    "  try : \n",
    "    df = get_shareholders(corp_code)\n",
    "    dfs.append(df)\n",
    "  except : \n",
    "    print(f'error - {corp_code}')\n",
    "\n",
    "df_result = pd.concat(dfs)\n",
    "df_result['증감'] = df_result['기말지분율'] - df_result['기초지분율']\n",
    "\n",
    "df_result.sort_values(by='증감', ascending=False)"
   ]
  },
  {
   "cell_type": "code",
   "execution_count": null,
   "metadata": {},
   "outputs": [],
   "source": [
    "#돈 많이 번 회사 찾기\n",
    "def get_profit(name):\n",
    "  corp_code = df_listed[df_listed['corp_name'] == name].iloc[0,0]\n",
    "  data = dart_fss.api.finance.fnltt_singl_acnt(corp_code, '2021', '11011')\n",
    "  df = pd.DataFrame(data['list'])\n",
    "\n",
    "  cond = (df['fs_div'] == 'CFS') & (df['account_nm'] == '이익잉여금')\n",
    "  df = df[cond]\n",
    "\n",
    "  df['name'] = name\n",
    "\n",
    "  df = df[['name', 'thstrm_amount','frmtrm_amount']]\n",
    "  df.columns = ['기업명','당기', '전기']\n",
    "  df['당기'] = pd.to_numeric(df['당기'].str.replace(',',''))\n",
    "  df['전기'] = pd.to_numeric(df['전기'].str.replace(',',''))\n",
    "\n",
    "  df['증감'] = df['당기'] - df['전기']\n",
    "  df['증감률'] = df['증감'] / abs(df['전기'])\n",
    "  \n",
    "  return df"
   ]
  },
  {
   "cell_type": "code",
   "execution_count": null,
   "metadata": {},
   "outputs": [],
   "source": [
    "names = list(df_listed.sample(10)['corp_name'])\n",
    "\n",
    "dfs = []\n",
    "for name in names :\n",
    "  try : \n",
    "    df = get_profit(name)\n",
    "    dfs.append(df)\n",
    "  except :\n",
    "    print(f'error - {name}')\n",
    "\n",
    "df_result = pd.concat(dfs)\n",
    "df_result.sort_values(by='증감률', ascending=False)"
   ]
  },
  {
   "cell_type": "code",
   "execution_count": null,
   "metadata": {},
   "outputs": [],
   "source": [
    "def get_earning(name):\n",
    "  corp_code = df_non_listed[df_non_listed['corp_name'] == name].iloc[0,0]\n",
    "  data = dart_fss.api.info.alot_matter(corp_code, '2021', '11011')\n",
    "  df = pd.DataFrame(data['list'])\n",
    "\n",
    "  df = df[df['se'] == '(연결)당기순이익(백만원)']\n",
    "  df = df[['corp_name','thstrm','frmtrm','lwfr']]\n",
    "\n",
    "  df.columns = ['기업명', '2021', '2020', '2019']\n",
    "  df['2021'] = pd.to_numeric(df['2021'].str.replace(',',''))\n",
    "  df['2020'] = pd.to_numeric(df['2020'].str.replace(',',''))\n",
    "  df['2019'] = pd.to_numeric(df['2019'].str.replace(',',''))\n",
    "  return df"
   ]
  },
  {
   "cell_type": "code",
   "execution_count": null,
   "metadata": {},
   "outputs": [],
   "source": [
    "names = list(df_non_listed.sample(10)['corp_name'])\n",
    "\n",
    "dfs = []\n",
    "for name in names :\n",
    "  try :\n",
    "    df = get_earning(name)\n",
    "    dfs.append(df)\n",
    "  except : \n",
    "    print(f'error - {name}')\n",
    "\n",
    "df_result = pd.concat(dfs)\n",
    "df_result\n",
    "                      "
   ]
  },
  {
   "cell_type": "code",
   "execution_count": null,
   "metadata": {},
   "outputs": [],
   "source": [
    "#3주차 숙제\n",
    "def get_salary(name) : \n",
    "  corp_code = df_listed[df_listed['corp_name'] == name].iloc[0,0]\n",
    "  data = dart_fss.api.info.emp_sttus(corp_code, '2021', '11011')\n",
    "\n",
    "  df = pd.DataFrame(data['list'])\n",
    "  df = df[['corp_name', 'sexdstn', 'jan_salary_am']]\n",
    "\n",
    "  df_result = pd.DataFrame()\n",
    "  doc = {\n",
    "        '기업명' : name,\n",
    "        '연봉(남)' : df[df['sexdstn'] == '남'].iloc[-1,-1],\n",
    "        '연봉(여)' : df[df['sexdstn'] == '여'].iloc[-1,-1]\n",
    "  }\n",
    "  df_result = df_result.append(doc, ignore_index=True)\n",
    "\n",
    "  df_result['연봉(남)'] = pd.to_numeric(df_result['연봉(남)'].str.replace(',',''))\n",
    "  df_result['연봉(여)'] = pd.to_numeric(df_result['연봉(여)'].str.replace(',',''))\n",
    "  df_result['차이(남-여)'] = df_result['연봉(남)'] - df_result['연봉(여)']\n",
    "  df_result['평균'] = (df_result['연봉(남)'] + df_result['연봉(여)'])/2\n",
    "  return df_result\n",
    "\n",
    "names = list(df_listed.sample(10)['corp_name'])\n",
    "\n",
    "dfs = []\n",
    "for name in names : \n",
    "  try :\n",
    "    df = get_salary(name)\n",
    "    dfs.append(df)\n",
    "  except : \n",
    "    print(f'error-{name}')\n",
    "\n",
    "df_result = pd.concat(dfs)\n",
    "df_result.sort_values(by='차이(남-여)', ascending=True)"
   ]
  },
  {
   "cell_type": "code",
   "execution_count": null,
   "metadata": {},
   "outputs": [],
   "source": [
    "#4주차"
   ]
  },
  {
   "cell_type": "code",
   "execution_count": null,
   "metadata": {},
   "outputs": [],
   "source": [
    "!pip install yfinance pandas-datareader finance-datareader"
   ]
  },
  {
   "cell_type": "code",
   "execution_count": null,
   "metadata": {},
   "outputs": [],
   "source": [
    "from pandas_datareader import data as pdr\n",
    "import yfinance as yf\n",
    "yf.pdr_override()\n",
    "import numpy as np\n",
    "import pandas as pd\n",
    "import FinanceDataReader as fdr"
   ]
  },
  {
   "cell_type": "code",
   "execution_count": null,
   "metadata": {},
   "outputs": [],
   "source": [
    "df_1 = fdr.DataReader('005930','2018')\n",
    "df_2 = fdr.DataReader('066570','2018')\n",
    "\n",
    "df = pd.DataFrame()\n",
    "df['Samsung'] = df_1['Change']\n",
    "df['LG'] = df_2['Change']\n",
    "\n",
    "df.tail(100).plot(figsize=[15,8], grid=True)"
   ]
  },
  {
   "cell_type": "code",
   "execution_count": null,
   "metadata": {},
   "outputs": [],
   "source": [
    "df = fdr.DataReader('005930','2018')\n",
    "\n",
    "df = df[['Close']]\n",
    "\n",
    "df['ma'] = df.rolling(3).mean()\n",
    "\n",
    "df"
   ]
  },
  {
   "cell_type": "code",
   "execution_count": null,
   "metadata": {},
   "outputs": [],
   "source": [
    "df = fdr.DataReader('005930','2018')\n",
    "\n",
    "df = df[['Close']]\n",
    "\n",
    "df['ma'] = df.rolling(3).mean().shift(1)\n",
    "\n",
    "df['action'] = np.where(df['Close'] > df['ma'], 'buy', 'sell')\n",
    "\n",
    "df"
   ]
  },
  {
   "cell_type": "code",
   "execution_count": null,
   "metadata": {},
   "outputs": [],
   "source": [
    "df = fdr.DataReader('005930','2018')\n",
    "\n",
    "df = df[['Close']]\n",
    "\n",
    "df['ma'] = df.rolling(3).mean().shift(1)\n",
    "\n",
    "df['action'] = np.where(df['Close'] > df['ma'], 'buy', 'sell')\n",
    "\n",
    "cond1 = (df['action']=='buy') & (df['action'].shift(1) == 'sell')\n",
    "cond2 = (df['action']=='sell') & (df['action'].shift(1) == 'buy')\n",
    "\n",
    "df_buy = df[cond1]\n",
    "df_sell = df[cond2]\n",
    "\n",
    "df_result = pd.concat([df_buy, df_sell], axis=1)\n",
    "\n",
    "df_result.head(30)"
   ]
  },
  {
   "cell_type": "code",
   "execution_count": null,
   "metadata": {},
   "outputs": [],
   "source": [
    "# 이동평균선 몇일선과 수익률 누적 구하기\n",
    "def get_return(code, n):\n",
    "  df = fdr.DataReader(code,'2018')\n",
    "\n",
    "  df = df[['Close']].copy()\n",
    "\n",
    "  df['ma'] = df.rolling(n).mean().shift(1)\n",
    "\n",
    "  df['action'] = np.where(df['Close'] > df['ma'], 'buy', 'sell')\n",
    "\n",
    "  cond1 = (df['action']=='buy') & (df['action'].shift(1) == 'sell')\n",
    "  cond2 = (df['action']=='sell') & (df['action'].shift(1) == 'buy')\n",
    "\n",
    "  df_buy = df[cond1].reset_index()\n",
    "  df_buy.columns = ['날짜', '종가(buy)', '이평값', '액션']\n",
    "  df_sell = df[cond2].reset_index()\n",
    "  df_sell.columns = ['날짜', '종가(sell)', '이평값', '액션']\n",
    "  df_result = pd.concat([df_buy, df_sell], axis=1)\n",
    "\n",
    "  df_result['수익률'] = df_result['종가(sell)'] / df_result['종가(buy)']\n",
    "  return df_result[['수익률']].cumprod().iloc[-2,-1] - 1"
   ]
  },
  {
   "cell_type": "code",
   "execution_count": null,
   "metadata": {},
   "outputs": [],
   "source": [
    "get_return('005930',448)"
   ]
  },
  {
   "cell_type": "code",
   "execution_count": null,
   "metadata": {},
   "outputs": [],
   "source": [
    "def get_return_sl(code, short, long) : \n",
    "  df = fdr.DataReader(code,'2018')\n",
    "\n",
    "  df = df[['Close']].copy()\n",
    "\n",
    "  df['ma1'] = df['Close'].rolling(short).mean().shift(1)\n",
    "  df['ma2'] = df['Close'].rolling(long).mean().shift(1)\n",
    "\n",
    "  df['action'] = np.where(df['ma1'] > df['ma2'], 'buy', 'sell')\n",
    "\n",
    "  df.iloc[-1,-1] = 'sell'\n",
    "\n",
    "  cond1 = (df['action']=='buy') & (df['action'].shift(1) == 'sell')\n",
    "  cond2 = (df['action']=='sell') & (df['action'].shift(1) == 'buy')\n",
    "\n",
    "  df_buy = df[cond1].reset_index()\n",
    "  df_buy.columns = ['날짜', '종가(buy)', '이평값1', '이평값2', '액션']\n",
    "  df_sell = df[cond2].reset_index()\n",
    "  df_sell.columns = ['날짜', '종가(sell)', '이평값1', '이평값2', '액션']\n",
    "\n",
    "  df_result = pd.concat([df_buy, df_sell], axis=1)\n",
    "\n",
    "  df_result['수익률'] = df_result['종가(sell)'] / df_result['종가(buy)']\n",
    "  df_final = (df_result[['수익률']].cumprod().tail(1) -1) * 100\n",
    "  df_final['단기'] = short\n",
    "  df_final['장기'] = long\n",
    "\n",
    "  return df_final"
   ]
  },
  {
   "cell_type": "code",
   "execution_count": null,
   "metadata": {},
   "outputs": [],
   "source": [
    "get_return_sl('005930',3,30)"
   ]
  },
  {
   "cell_type": "code",
   "execution_count": null,
   "metadata": {},
   "outputs": [],
   "source": [
    "#4주차 숙제\n",
    "def get_return_sl(code, short, long) : \n",
    "  df = fdr.DataReader(code,'2018')\n",
    "\n",
    "  df = df[['Close']].copy()\n",
    "\n",
    "  df['ma1'] = df['Close'].rolling(short).mean().shift(1)\n",
    "  df['ma2'] = df['Close'].rolling(long).mean().shift(1)\n",
    "\n",
    "  df['action'] = np.where(df['ma1'] > df['ma2'], 'buy', 'sell')\n",
    "\n",
    "  df.iloc[-1,-1] = 'sell'\n",
    "\n",
    "  cond1 = (df['action']=='buy') & (df['action'].shift(1) == 'sell')\n",
    "  cond2 = (df['action']=='sell') & (df['action'].shift(1) == 'buy')\n",
    "\n",
    "  df_buy = df[cond1].reset_index()\n",
    "  df_buy.columns = ['날짜', '종가(buy)', '이평값1', '이평값2', '액션']\n",
    "  df_sell = df[cond2].reset_index()\n",
    "  df_sell.columns = ['날짜', '종가(sell)', '이평값1', '이평값2', '액션']\n",
    "\n",
    "  df_result = pd.concat([df_buy, df_sell], axis=1)\n",
    "\n",
    "  df_result['수익률'] = df_result['종가(sell)'] / df_result['종가(buy)']\n",
    "  df_final = (df_result[['수익률']].cumprod().tail(1) -1) * 100\n",
    "  df_final['단기'] = short\n",
    "  df_final['장기'] = long\n",
    "\n",
    "  return df_final\n",
    "\n",
    "dfs = []\n",
    "for short in range(3,11):\n",
    "  for long in range(30,61):\n",
    "      df = get_return_sl('005930',short, long)\n",
    "      dfs.append(df)\n",
    "\n",
    "df_result = pd.concat(dfs)\n",
    "df_result.sort_values(by='수익률', ascending = False).head(1)"
   ]
  },
  {
   "cell_type": "code",
   "execution_count": null,
   "metadata": {},
   "outputs": [],
   "source": [
    "#5주차"
   ]
  },
  {
   "cell_type": "code",
   "execution_count": null,
   "metadata": {},
   "outputs": [],
   "source": [
    "from pandas_datareader import data as pdr\n",
    "import yfinance as yf\n",
    "yf.pdr_override()\n",
    "import numpy as np\n",
    "import pandas as pd\n",
    "import FinanceDataReader as fdr"
   ]
  },
  {
   "cell_type": "code",
   "execution_count": null,
   "metadata": {},
   "outputs": [],
   "source": [
    "def get_return(code, k) : \n",
    "\n",
    "  df = fdr.DataReader(code,'2018')\n",
    "\n",
    "  df['buy_at'] = (df['High'].shift(1) - df['Low'].shift(1)) * k + df['Open']\n",
    "\n",
    "  df['is_buy'] = np.where(df['High'] > df['buy_at'], 'buy', '')\n",
    "\n",
    "  df['sell_at'] = df['Open'].shift(-1)\n",
    "\n",
    "  df = df[df['is_buy'] == 'buy']\n",
    "\n",
    "  df['return'] = df['sell_at'] / df['buy_at']\n",
    "\n",
    "  return df[['return']].cumprod().iloc[-1,-1] - 1"
   ]
  },
  {
   "cell_type": "code",
   "execution_count": null,
   "metadata": {},
   "outputs": [],
   "source": [
    "get_return('005930',0.4)"
   ]
  },
  {
   "cell_type": "code",
   "execution_count": null,
   "metadata": {},
   "outputs": [],
   "source": [
    "df = pd.DataFrame()\n",
    "\n",
    "for k in np.arange(0.4,0.6,0.01):\n",
    "  doc = {\n",
    "      'k' : k,\n",
    "      'return' : get_return('005930',k)\n",
    "  }\n",
    "  df = df.append(doc, ignore_index=True)\n",
    "\n",
    "df.sort_values(by='return', ascending=False)"
   ]
  },
  {
   "cell_type": "code",
   "execution_count": null,
   "metadata": {},
   "outputs": [],
   "source": [
    "#월요일에 사서 금요일에 팔기\n",
    "def get_return_mf(code) : \n",
    "  df = fdr.DataReader(code,'2020')\n",
    "\n",
    "  df = df.reset_index()\n",
    "\n",
    "  df = df[['Date','Open']]\n",
    "\n",
    "  df['Day'] = pd.to_datetime(df['Date']).dt.day_name()\n",
    "\n",
    "  cond = (df['Day'] =='Monday') | (df['Day'] =='Friday')\n",
    "\n",
    "  df = df[cond]\n",
    "\n",
    "\n",
    "\n",
    "  if df.iloc[0,2] == 'Friday' :\n",
    "    df = df.iloc[1:,:]\n",
    "\n",
    "  if df.iloc[-1,2] == 'Monday' :\n",
    "    df = df.iloc[:-1,:]\n",
    "\n",
    "  df['Open_Friday'] = df['Open'].shift(-1)\n",
    "\n",
    "  df = df[df['Day'] == 'Monday'].copy()\n",
    "\n",
    "  df = df[['Open', 'Open_Friday']]\n",
    "\n",
    "  df.columns = ['buy_at', 'sell_at']\n",
    "\n",
    "  df['return'] = df['sell_at'] / df['buy_at']\n",
    "\n",
    "  df = df[df['buy_at']!=0]\n",
    "\n",
    "  return df[['return']].cumprod().iloc[-1,-1] -1"
   ]
  },
  {
   "cell_type": "code",
   "execution_count": null,
   "metadata": {},
   "outputs": [],
   "source": [
    "get_return_mf('005930')"
   ]
  },
  {
   "cell_type": "code",
   "execution_count": null,
   "metadata": {},
   "outputs": [],
   "source": [
    "#최적의 종목찾기"
   ]
  },
  {
   "cell_type": "code",
   "execution_count": null,
   "metadata": {},
   "outputs": [],
   "source": [
    "!pip install dart-fss"
   ]
  },
  {
   "cell_type": "code",
   "execution_count": null,
   "metadata": {},
   "outputs": [],
   "source": [
    "import dart_fss as dart_fss\n",
    "import pandas as pd\n",
    "\n",
    "api_key = 'fc748156cc672cb16311817e362a748e940e9960'\n",
    "dart_fss.set_api_key(api_key=api_key)\n",
    "\n",
    "all = dart_fss.api.filings.get_corp_code()\n",
    "\n",
    "df = pd.DataFrame(all)\n",
    "\n",
    "df_listed = df[df['stock_code'].notnull()]"
   ]
  },
  {
   "cell_type": "code",
   "execution_count": null,
   "metadata": {},
   "outputs": [],
   "source": [
    "#print(row[1], row[2]) 으로 코드랑 이름 가져올 수 있음\n",
    "  \n",
    "df = pd.DataFrame()\n",
    "for row in df_listed.sample(50)[['stock_code','corp_name']].itertuples():\n",
    "  try : \n",
    "    doc = {\n",
    "        'name' : row[2],\n",
    "        'return' : get_return_mf(row[1])\n",
    "    }\n",
    "    df = df.append(doc, ignore_index=True)\n",
    "  except : \n",
    "    print(f'error-f{row[2]}')\n",
    "\n",
    "df.sort_values(by = 'return', ascending=False)"
   ]
  },
  {
   "cell_type": "code",
   "execution_count": null,
   "metadata": {},
   "outputs": [],
   "source": []
  },
  {
   "cell_type": "code",
   "execution_count": null,
   "metadata": {},
   "outputs": [],
   "source": []
  }
 ],
 "metadata": {
  "kernelspec": {
   "display_name": "Python 3",
   "language": "python",
   "name": "python3"
  },
  "language_info": {
   "codemirror_mode": {
    "name": "ipython",
    "version": 3
   },
   "file_extension": ".py",
   "mimetype": "text/x-python",
   "name": "python",
   "nbconvert_exporter": "python",
   "pygments_lexer": "ipython3",
   "version": "3.8.5"
  }
 },
 "nbformat": 4,
 "nbformat_minor": 4
}
